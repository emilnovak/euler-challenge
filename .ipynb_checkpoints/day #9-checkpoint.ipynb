{
 "cells": [
  {
   "cell_type": "markdown",
   "metadata": {},
   "source": [
    "## Problem 9\n",
    "\n",
    "A Pythagorean triplet is a set of three natural numbers, $a < b < c$, for which,\n",
    "$a2 + b2 = c2$\n",
    "For example, $32 + 42 = 9 + 16 = 25 = 52$.\n",
    "\n",
    "There exists exactly one Pythagorean triplet for which $a + b + c = 1000$.\n",
    "Find the product abc."
   ]
  },
  {
   "cell_type": "markdown",
   "metadata": {},
   "source": [
    "### Solution"
   ]
  },
  {
   "cell_type": "code",
   "execution_count": 1,
   "metadata": {},
   "outputs": [],
   "source": [
    "# refer to this: https://primes.utm.edu/glossary/page.php?sort=PrmPythagTriples\n",
    "# generates a, b and c of a triangle based on u and v\n",
    "def findTriplet(u, v):\n",
    "    return (u ** 2 - v ** 2, 2 * u * v, u ** 2 + v ** 2)"
   ]
  },
  {
   "cell_type": "code",
   "execution_count": 2,
   "metadata": {},
   "outputs": [
    {
     "data": {
      "text/plain": [
       "(3, 4, 5)"
      ]
     },
     "execution_count": 2,
     "metadata": {},
     "output_type": "execute_result"
    }
   ],
   "source": [
    "findTriplet(2, 1)"
   ]
  },
  {
   "cell_type": "code",
   "execution_count": 3,
   "metadata": {
    "scrolled": true
   },
   "outputs": [
    {
     "name": "stdout",
     "output_type": "stream",
     "text": [
      "(375, 200, 425)\n"
     ]
    }
   ],
   "source": [
    "solution = 0\n",
    "\n",
    "for i in range(1000):\n",
    "    for j in range(1000):\n",
    "        triplet = findTriplet(i, j)\n",
    "        if triplet[0] <= 0 or triplet[1] <= 0 or triplet[2] <= 0:\n",
    "            continue\n",
    "        if triplet[0] + triplet[1] + triplet[2]  == 1000:\n",
    "            solution = triplet\n",
    "            print(solution)"
   ]
  },
  {
   "cell_type": "code",
   "execution_count": 4,
   "metadata": {},
   "outputs": [
    {
     "name": "stdout",
     "output_type": "stream",
     "text": [
      "The final product is 31875000\n"
     ]
    }
   ],
   "source": [
    "print('The final product is', solution[0] * solution[1] * solution[2])"
   ]
  }
 ],
 "metadata": {
  "kernelspec": {
   "display_name": "Python 3",
   "language": "python",
   "name": "python3"
  },
  "language_info": {
   "codemirror_mode": {
    "name": "ipython",
    "version": 3
   },
   "file_extension": ".py",
   "mimetype": "text/x-python",
   "name": "python",
   "nbconvert_exporter": "python",
   "pygments_lexer": "ipython3",
   "version": "3.7.1"
  }
 },
 "nbformat": 4,
 "nbformat_minor": 2
}
