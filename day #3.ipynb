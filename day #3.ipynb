{
 "cells": [
  {
   "cell_type": "markdown",
   "metadata": {},
   "source": [
    "## Problem 3\n",
    "\n",
    "The prime factors of 13195 are 5, 7, 13 and 29.\n",
    "\n",
    "What is the largest prime factor of the number 600851475143 ?"
   ]
  },
  {
   "cell_type": "markdown",
   "metadata": {},
   "source": [
    "### Solution"
   ]
  },
  {
   "cell_type": "code",
   "execution_count": 11,
   "metadata": {},
   "outputs": [],
   "source": [
    "import math"
   ]
  },
  {
   "cell_type": "code",
   "execution_count": 8,
   "metadata": {},
   "outputs": [],
   "source": [
    "# from c code to python, https://www.geeksforgeeks.org/print-all-prime-factors-of-a-given-number/\n",
    "\n",
    "def getPrimes(num):\n",
    "    primes = []\n",
    "    \n",
    "    while num % 2 == 0:\n",
    "        primes.append(2)\n",
    "        num /= 2\n",
    "    \n",
    "    i = 3\n",
    "    while i <= math.sqrt(num):\n",
    "        \n",
    "        while num % i == 0:\n",
    "            primes.append(int(i))\n",
    "            num /= i\n",
    "        \n",
    "        i += 2\n",
    "        \n",
    "    if num > 2:\n",
    "        primes.append(int(num))\n",
    "    \n",
    "    return primes"
   ]
  },
  {
   "cell_type": "code",
   "execution_count": 14,
   "metadata": {},
   "outputs": [
    {
     "name": "stdout",
     "output_type": "stream",
     "text": [
      "largest prime factor of 600851475143 is 6857\n"
     ]
    }
   ],
   "source": [
    "print ('largest prime factor of 600851475143 is', max(getPrimes(600851475143)))"
   ]
  }
 ],
 "metadata": {
  "kernelspec": {
   "display_name": "Python 3",
   "language": "python",
   "name": "python3"
  },
  "language_info": {
   "codemirror_mode": {
    "name": "ipython",
    "version": 3
   },
   "file_extension": ".py",
   "mimetype": "text/x-python",
   "name": "python",
   "nbconvert_exporter": "python",
   "pygments_lexer": "ipython3",
   "version": "3.7.1"
  }
 },
 "nbformat": 4,
 "nbformat_minor": 2
}
